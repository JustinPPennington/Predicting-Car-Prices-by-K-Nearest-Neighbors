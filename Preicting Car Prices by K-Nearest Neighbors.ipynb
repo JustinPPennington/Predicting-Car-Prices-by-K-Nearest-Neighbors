{
 "cells": [
  {
   "cell_type": "markdown",
   "metadata": {
    "collapsed": true
   },
   "source": [
    "# Predicting Car Prices\n",
    "In this project we will be using machine learning using a k-nearest neighbors algorithm in order to predict a car's price based on its different parameters. The data set can be found [here](https://archive.ics.uci.edu/ml/machine-learning-databases/autos/imports-85.data) and contains the make, model, body type, and many more different data points for each car.  More can be read about the data set [here](https://archive.ics.uci.edu/ml/datasets/automobile)."
   ]
  },
  {
   "cell_type": "code",
   "execution_count": 1,
   "metadata": {},
   "outputs": [
    {
     "data": {
      "text/html": [
       "<div>\n",
       "<style scoped>\n",
       "    .dataframe tbody tr th:only-of-type {\n",
       "        vertical-align: middle;\n",
       "    }\n",
       "\n",
       "    .dataframe tbody tr th {\n",
       "        vertical-align: top;\n",
       "    }\n",
       "\n",
       "    .dataframe thead th {\n",
       "        text-align: right;\n",
       "    }\n",
       "</style>\n",
       "<table border=\"1\" class=\"dataframe\">\n",
       "  <thead>\n",
       "    <tr style=\"text-align: right;\">\n",
       "      <th></th>\n",
       "      <th>3</th>\n",
       "      <th>?</th>\n",
       "      <th>alfa-romero</th>\n",
       "      <th>gas</th>\n",
       "      <th>std</th>\n",
       "      <th>two</th>\n",
       "      <th>convertible</th>\n",
       "      <th>rwd</th>\n",
       "      <th>front</th>\n",
       "      <th>88.60</th>\n",
       "      <th>168.80</th>\n",
       "      <th>64.10</th>\n",
       "      <th>48.80</th>\n",
       "      <th>2548</th>\n",
       "      <th>dohc</th>\n",
       "      <th>four</th>\n",
       "      <th>130</th>\n",
       "      <th>mpfi</th>\n",
       "      <th>3.47</th>\n",
       "      <th>2.68</th>\n",
       "      <th>9.00</th>\n",
       "      <th>111</th>\n",
       "      <th>5000</th>\n",
       "      <th>21</th>\n",
       "      <th>27</th>\n",
       "      <th>13495</th>\n",
       "    </tr>\n",
       "  </thead>\n",
       "  <tbody>\n",
       "    <tr>\n",
       "      <th>0</th>\n",
       "      <td>3</td>\n",
       "      <td>?</td>\n",
       "      <td>alfa-romero</td>\n",
       "      <td>gas</td>\n",
       "      <td>std</td>\n",
       "      <td>two</td>\n",
       "      <td>convertible</td>\n",
       "      <td>rwd</td>\n",
       "      <td>front</td>\n",
       "      <td>88.6</td>\n",
       "      <td>168.8</td>\n",
       "      <td>64.1</td>\n",
       "      <td>48.8</td>\n",
       "      <td>2548</td>\n",
       "      <td>dohc</td>\n",
       "      <td>four</td>\n",
       "      <td>130</td>\n",
       "      <td>mpfi</td>\n",
       "      <td>3.47</td>\n",
       "      <td>2.68</td>\n",
       "      <td>9.0</td>\n",
       "      <td>111</td>\n",
       "      <td>5000</td>\n",
       "      <td>21</td>\n",
       "      <td>27</td>\n",
       "      <td>16500</td>\n",
       "    </tr>\n",
       "    <tr>\n",
       "      <th>1</th>\n",
       "      <td>1</td>\n",
       "      <td>?</td>\n",
       "      <td>alfa-romero</td>\n",
       "      <td>gas</td>\n",
       "      <td>std</td>\n",
       "      <td>two</td>\n",
       "      <td>hatchback</td>\n",
       "      <td>rwd</td>\n",
       "      <td>front</td>\n",
       "      <td>94.5</td>\n",
       "      <td>171.2</td>\n",
       "      <td>65.5</td>\n",
       "      <td>52.4</td>\n",
       "      <td>2823</td>\n",
       "      <td>ohcv</td>\n",
       "      <td>six</td>\n",
       "      <td>152</td>\n",
       "      <td>mpfi</td>\n",
       "      <td>2.68</td>\n",
       "      <td>3.47</td>\n",
       "      <td>9.0</td>\n",
       "      <td>154</td>\n",
       "      <td>5000</td>\n",
       "      <td>19</td>\n",
       "      <td>26</td>\n",
       "      <td>16500</td>\n",
       "    </tr>\n",
       "    <tr>\n",
       "      <th>2</th>\n",
       "      <td>2</td>\n",
       "      <td>164</td>\n",
       "      <td>audi</td>\n",
       "      <td>gas</td>\n",
       "      <td>std</td>\n",
       "      <td>four</td>\n",
       "      <td>sedan</td>\n",
       "      <td>fwd</td>\n",
       "      <td>front</td>\n",
       "      <td>99.8</td>\n",
       "      <td>176.6</td>\n",
       "      <td>66.2</td>\n",
       "      <td>54.3</td>\n",
       "      <td>2337</td>\n",
       "      <td>ohc</td>\n",
       "      <td>four</td>\n",
       "      <td>109</td>\n",
       "      <td>mpfi</td>\n",
       "      <td>3.19</td>\n",
       "      <td>3.40</td>\n",
       "      <td>10.0</td>\n",
       "      <td>102</td>\n",
       "      <td>5500</td>\n",
       "      <td>24</td>\n",
       "      <td>30</td>\n",
       "      <td>13950</td>\n",
       "    </tr>\n",
       "  </tbody>\n",
       "</table>\n",
       "</div>"
      ],
      "text/plain": [
       "   3    ?  alfa-romero  gas  std   two  convertible  rwd  front  88.60  \\\n",
       "0  3    ?  alfa-romero  gas  std   two  convertible  rwd  front   88.6   \n",
       "1  1    ?  alfa-romero  gas  std   two    hatchback  rwd  front   94.5   \n",
       "2  2  164         audi  gas  std  four        sedan  fwd  front   99.8   \n",
       "\n",
       "   168.80  64.10  48.80  2548  dohc  four  130  mpfi  3.47  2.68  9.00  111  \\\n",
       "0   168.8   64.1   48.8  2548  dohc  four  130  mpfi  3.47  2.68   9.0  111   \n",
       "1   171.2   65.5   52.4  2823  ohcv   six  152  mpfi  2.68  3.47   9.0  154   \n",
       "2   176.6   66.2   54.3  2337   ohc  four  109  mpfi  3.19  3.40  10.0  102   \n",
       "\n",
       "   5000  21  27  13495  \n",
       "0  5000  21  27  16500  \n",
       "1  5000  19  26  16500  \n",
       "2  5500  24  30  13950  "
      ]
     },
     "execution_count": 1,
     "metadata": {},
     "output_type": "execute_result"
    }
   ],
   "source": [
    "import pandas as pd\n",
    "import numpy as np\n",
    "#allows view of all columns\n",
    "pd.set_option('display.max_columns', None)\n",
    "\n",
    "cars = pd.read_csv('imports-85.data')\n",
    "cars.head(3)"
   ]
  },
  {
   "cell_type": "markdown",
   "metadata": {},
   "source": [
    "There is no header row, so the column names are not matching what they should be after reading in the data set. "
   ]
  },
  {
   "cell_type": "code",
   "execution_count": 2,
   "metadata": {},
   "outputs": [
    {
     "data": {
      "text/html": [
       "<div>\n",
       "<style scoped>\n",
       "    .dataframe tbody tr th:only-of-type {\n",
       "        vertical-align: middle;\n",
       "    }\n",
       "\n",
       "    .dataframe tbody tr th {\n",
       "        vertical-align: top;\n",
       "    }\n",
       "\n",
       "    .dataframe thead th {\n",
       "        text-align: right;\n",
       "    }\n",
       "</style>\n",
       "<table border=\"1\" class=\"dataframe\">\n",
       "  <thead>\n",
       "    <tr style=\"text-align: right;\">\n",
       "      <th></th>\n",
       "      <th>symboling</th>\n",
       "      <th>normalized_losses</th>\n",
       "      <th>make</th>\n",
       "      <th>fuel_type</th>\n",
       "      <th>aspiration</th>\n",
       "      <th>num_doors</th>\n",
       "      <th>body_style</th>\n",
       "      <th>drive_wheels</th>\n",
       "      <th>engine_location</th>\n",
       "      <th>wheel_base</th>\n",
       "      <th>length</th>\n",
       "      <th>width</th>\n",
       "      <th>height</th>\n",
       "      <th>curb_weight</th>\n",
       "      <th>engine_type</th>\n",
       "      <th>num_of_cylinders</th>\n",
       "      <th>engine_size</th>\n",
       "      <th>fuel_system</th>\n",
       "      <th>bore</th>\n",
       "      <th>stroke</th>\n",
       "      <th>compression_ratio</th>\n",
       "      <th>horsepower</th>\n",
       "      <th>peak_rpm</th>\n",
       "      <th>city_mpg</th>\n",
       "      <th>highway_mpg</th>\n",
       "      <th>price</th>\n",
       "    </tr>\n",
       "  </thead>\n",
       "  <tbody>\n",
       "    <tr>\n",
       "      <th>0</th>\n",
       "      <td>3</td>\n",
       "      <td>?</td>\n",
       "      <td>alfa-romero</td>\n",
       "      <td>gas</td>\n",
       "      <td>std</td>\n",
       "      <td>two</td>\n",
       "      <td>convertible</td>\n",
       "      <td>rwd</td>\n",
       "      <td>front</td>\n",
       "      <td>88.6</td>\n",
       "      <td>168.8</td>\n",
       "      <td>64.1</td>\n",
       "      <td>48.8</td>\n",
       "      <td>2548</td>\n",
       "      <td>dohc</td>\n",
       "      <td>four</td>\n",
       "      <td>130</td>\n",
       "      <td>mpfi</td>\n",
       "      <td>3.47</td>\n",
       "      <td>2.68</td>\n",
       "      <td>9.0</td>\n",
       "      <td>111</td>\n",
       "      <td>5000</td>\n",
       "      <td>21</td>\n",
       "      <td>27</td>\n",
       "      <td>13495</td>\n",
       "    </tr>\n",
       "    <tr>\n",
       "      <th>1</th>\n",
       "      <td>3</td>\n",
       "      <td>?</td>\n",
       "      <td>alfa-romero</td>\n",
       "      <td>gas</td>\n",
       "      <td>std</td>\n",
       "      <td>two</td>\n",
       "      <td>convertible</td>\n",
       "      <td>rwd</td>\n",
       "      <td>front</td>\n",
       "      <td>88.6</td>\n",
       "      <td>168.8</td>\n",
       "      <td>64.1</td>\n",
       "      <td>48.8</td>\n",
       "      <td>2548</td>\n",
       "      <td>dohc</td>\n",
       "      <td>four</td>\n",
       "      <td>130</td>\n",
       "      <td>mpfi</td>\n",
       "      <td>3.47</td>\n",
       "      <td>2.68</td>\n",
       "      <td>9.0</td>\n",
       "      <td>111</td>\n",
       "      <td>5000</td>\n",
       "      <td>21</td>\n",
       "      <td>27</td>\n",
       "      <td>16500</td>\n",
       "    </tr>\n",
       "    <tr>\n",
       "      <th>2</th>\n",
       "      <td>1</td>\n",
       "      <td>?</td>\n",
       "      <td>alfa-romero</td>\n",
       "      <td>gas</td>\n",
       "      <td>std</td>\n",
       "      <td>two</td>\n",
       "      <td>hatchback</td>\n",
       "      <td>rwd</td>\n",
       "      <td>front</td>\n",
       "      <td>94.5</td>\n",
       "      <td>171.2</td>\n",
       "      <td>65.5</td>\n",
       "      <td>52.4</td>\n",
       "      <td>2823</td>\n",
       "      <td>ohcv</td>\n",
       "      <td>six</td>\n",
       "      <td>152</td>\n",
       "      <td>mpfi</td>\n",
       "      <td>2.68</td>\n",
       "      <td>3.47</td>\n",
       "      <td>9.0</td>\n",
       "      <td>154</td>\n",
       "      <td>5000</td>\n",
       "      <td>19</td>\n",
       "      <td>26</td>\n",
       "      <td>16500</td>\n",
       "    </tr>\n",
       "  </tbody>\n",
       "</table>\n",
       "</div>"
      ],
      "text/plain": [
       "   symboling normalized_losses         make fuel_type aspiration num_doors  \\\n",
       "0          3                 ?  alfa-romero       gas        std       two   \n",
       "1          3                 ?  alfa-romero       gas        std       two   \n",
       "2          1                 ?  alfa-romero       gas        std       two   \n",
       "\n",
       "    body_style drive_wheels engine_location  wheel_base  length  width  \\\n",
       "0  convertible          rwd           front        88.6   168.8   64.1   \n",
       "1  convertible          rwd           front        88.6   168.8   64.1   \n",
       "2    hatchback          rwd           front        94.5   171.2   65.5   \n",
       "\n",
       "   height  curb_weight engine_type num_of_cylinders  engine_size fuel_system  \\\n",
       "0    48.8         2548        dohc             four          130        mpfi   \n",
       "1    48.8         2548        dohc             four          130        mpfi   \n",
       "2    52.4         2823        ohcv              six          152        mpfi   \n",
       "\n",
       "   bore stroke  compression_ratio horsepower peak_rpm  city_mpg  highway_mpg  \\\n",
       "0  3.47   2.68                9.0        111     5000        21           27   \n",
       "1  3.47   2.68                9.0        111     5000        21           27   \n",
       "2  2.68   3.47                9.0        154     5000        19           26   \n",
       "\n",
       "   price  \n",
       "0  13495  \n",
       "1  16500  \n",
       "2  16500  "
      ]
     },
     "execution_count": 2,
     "metadata": {},
     "output_type": "execute_result"
    }
   ],
   "source": [
    "#list containing column names\n",
    "column_names = ['symboling', 'normalized_losses', 'make', 'fuel_type', 'aspiration', 'num_doors',\n",
    "               'body_style', 'drive_wheels', 'engine_location', 'wheel_base', 'length', 'width',\n",
    "                'height', 'curb_weight', 'engine_type', 'num_of_cylinders', 'engine_size', 'fuel_system',\n",
    "               'bore', 'stroke', 'compression_ratio', 'horsepower', 'peak_rpm', 'city_mpg', 'highway_mpg',\n",
    "               'price']\n",
    "cars = pd.read_csv('imports-85.data', names = column_names)\n",
    "cars.head(3)\n"
   ]
  },
  {
   "cell_type": "code",
   "execution_count": 3,
   "metadata": {},
   "outputs": [],
   "source": [
    "#list of all continuous numerical_cols\n",
    "continuous_cols = ['normalized_losses', 'wheel_base', 'length', 'width', 'height', 'curb_weight',\n",
    "                  'engine_size', 'bore', 'stroke', 'compression_ratio', 'horsepower', 'peak_rpm',\n",
    "                   'city_mpg', 'highway_mpg', 'price']  "
   ]
  },
  {
   "cell_type": "code",
   "execution_count": 4,
   "metadata": {},
   "outputs": [
    {
     "data": {
      "text/html": [
       "<div>\n",
       "<style scoped>\n",
       "    .dataframe tbody tr th:only-of-type {\n",
       "        vertical-align: middle;\n",
       "    }\n",
       "\n",
       "    .dataframe tbody tr th {\n",
       "        vertical-align: top;\n",
       "    }\n",
       "\n",
       "    .dataframe thead th {\n",
       "        text-align: right;\n",
       "    }\n",
       "</style>\n",
       "<table border=\"1\" class=\"dataframe\">\n",
       "  <thead>\n",
       "    <tr style=\"text-align: right;\">\n",
       "      <th></th>\n",
       "      <th>symboling</th>\n",
       "      <th>normalized_losses</th>\n",
       "      <th>make</th>\n",
       "      <th>fuel_type</th>\n",
       "      <th>aspiration</th>\n",
       "      <th>num_doors</th>\n",
       "      <th>body_style</th>\n",
       "      <th>drive_wheels</th>\n",
       "      <th>engine_location</th>\n",
       "      <th>wheel_base</th>\n",
       "      <th>length</th>\n",
       "      <th>width</th>\n",
       "      <th>height</th>\n",
       "      <th>curb_weight</th>\n",
       "      <th>engine_type</th>\n",
       "      <th>num_of_cylinders</th>\n",
       "      <th>engine_size</th>\n",
       "      <th>fuel_system</th>\n",
       "      <th>bore</th>\n",
       "      <th>stroke</th>\n",
       "      <th>compression_ratio</th>\n",
       "      <th>horsepower</th>\n",
       "      <th>peak_rpm</th>\n",
       "      <th>city_mpg</th>\n",
       "      <th>highway_mpg</th>\n",
       "      <th>price</th>\n",
       "    </tr>\n",
       "  </thead>\n",
       "  <tbody>\n",
       "    <tr>\n",
       "      <th>0</th>\n",
       "      <td>3</td>\n",
       "      <td>NaN</td>\n",
       "      <td>alfa-romero</td>\n",
       "      <td>gas</td>\n",
       "      <td>std</td>\n",
       "      <td>two</td>\n",
       "      <td>convertible</td>\n",
       "      <td>rwd</td>\n",
       "      <td>front</td>\n",
       "      <td>88.6</td>\n",
       "      <td>168.8</td>\n",
       "      <td>64.1</td>\n",
       "      <td>48.8</td>\n",
       "      <td>2548</td>\n",
       "      <td>dohc</td>\n",
       "      <td>four</td>\n",
       "      <td>130</td>\n",
       "      <td>mpfi</td>\n",
       "      <td>3.47</td>\n",
       "      <td>2.68</td>\n",
       "      <td>9.0</td>\n",
       "      <td>111</td>\n",
       "      <td>5000</td>\n",
       "      <td>21</td>\n",
       "      <td>27</td>\n",
       "      <td>13495</td>\n",
       "    </tr>\n",
       "    <tr>\n",
       "      <th>1</th>\n",
       "      <td>3</td>\n",
       "      <td>NaN</td>\n",
       "      <td>alfa-romero</td>\n",
       "      <td>gas</td>\n",
       "      <td>std</td>\n",
       "      <td>two</td>\n",
       "      <td>convertible</td>\n",
       "      <td>rwd</td>\n",
       "      <td>front</td>\n",
       "      <td>88.6</td>\n",
       "      <td>168.8</td>\n",
       "      <td>64.1</td>\n",
       "      <td>48.8</td>\n",
       "      <td>2548</td>\n",
       "      <td>dohc</td>\n",
       "      <td>four</td>\n",
       "      <td>130</td>\n",
       "      <td>mpfi</td>\n",
       "      <td>3.47</td>\n",
       "      <td>2.68</td>\n",
       "      <td>9.0</td>\n",
       "      <td>111</td>\n",
       "      <td>5000</td>\n",
       "      <td>21</td>\n",
       "      <td>27</td>\n",
       "      <td>16500</td>\n",
       "    </tr>\n",
       "    <tr>\n",
       "      <th>2</th>\n",
       "      <td>1</td>\n",
       "      <td>NaN</td>\n",
       "      <td>alfa-romero</td>\n",
       "      <td>gas</td>\n",
       "      <td>std</td>\n",
       "      <td>two</td>\n",
       "      <td>hatchback</td>\n",
       "      <td>rwd</td>\n",
       "      <td>front</td>\n",
       "      <td>94.5</td>\n",
       "      <td>171.2</td>\n",
       "      <td>65.5</td>\n",
       "      <td>52.4</td>\n",
       "      <td>2823</td>\n",
       "      <td>ohcv</td>\n",
       "      <td>six</td>\n",
       "      <td>152</td>\n",
       "      <td>mpfi</td>\n",
       "      <td>2.68</td>\n",
       "      <td>3.47</td>\n",
       "      <td>9.0</td>\n",
       "      <td>154</td>\n",
       "      <td>5000</td>\n",
       "      <td>19</td>\n",
       "      <td>26</td>\n",
       "      <td>16500</td>\n",
       "    </tr>\n",
       "  </tbody>\n",
       "</table>\n",
       "</div>"
      ],
      "text/plain": [
       "   symboling normalized_losses         make fuel_type aspiration num_doors  \\\n",
       "0          3               NaN  alfa-romero       gas        std       two   \n",
       "1          3               NaN  alfa-romero       gas        std       two   \n",
       "2          1               NaN  alfa-romero       gas        std       two   \n",
       "\n",
       "    body_style drive_wheels engine_location  wheel_base  length  width  \\\n",
       "0  convertible          rwd           front        88.6   168.8   64.1   \n",
       "1  convertible          rwd           front        88.6   168.8   64.1   \n",
       "2    hatchback          rwd           front        94.5   171.2   65.5   \n",
       "\n",
       "   height  curb_weight engine_type num_of_cylinders  engine_size fuel_system  \\\n",
       "0    48.8         2548        dohc             four          130        mpfi   \n",
       "1    48.8         2548        dohc             four          130        mpfi   \n",
       "2    52.4         2823        ohcv              six          152        mpfi   \n",
       "\n",
       "   bore stroke  compression_ratio horsepower peak_rpm  city_mpg  highway_mpg  \\\n",
       "0  3.47   2.68                9.0        111     5000        21           27   \n",
       "1  3.47   2.68                9.0        111     5000        21           27   \n",
       "2  2.68   3.47                9.0        154     5000        19           26   \n",
       "\n",
       "   price  \n",
       "0  13495  \n",
       "1  16500  \n",
       "2  16500  "
      ]
     },
     "execution_count": 4,
     "metadata": {},
     "output_type": "execute_result"
    }
   ],
   "source": [
    "cars.replace(to_replace = '?', value = np.nan, inplace = True)\n",
    "cars.head(3)"
   ]
  },
  {
   "cell_type": "markdown",
   "metadata": {},
   "source": [
    "# Data Cleaning"
   ]
  },
  {
   "cell_type": "markdown",
   "metadata": {},
   "source": [
    "Since the missing values were marked with ?, numerical columns were cast as objects instead of numerical types."
   ]
  },
  {
   "cell_type": "code",
   "execution_count": 5,
   "metadata": {},
   "outputs": [
    {
     "name": "stdout",
     "output_type": "stream",
     "text": [
      "['normalized_losses', 'wheel_base', 'length', 'width', 'height', 'curb_weight', 'engine_size', 'bore', 'stroke', 'compression_ratio', 'horsepower', 'peak_rpm', 'city_mpg', 'highway_mpg', 'price']\n",
      "symboling              int64\n",
      "normalized_losses     object\n",
      "make                  object\n",
      "fuel_type             object\n",
      "aspiration            object\n",
      "num_doors             object\n",
      "body_style            object\n",
      "drive_wheels          object\n",
      "engine_location       object\n",
      "wheel_base           float64\n",
      "length               float64\n",
      "width                float64\n",
      "height               float64\n",
      "curb_weight            int64\n",
      "engine_type           object\n",
      "num_of_cylinders      object\n",
      "engine_size            int64\n",
      "fuel_system           object\n",
      "bore                  object\n",
      "stroke                object\n",
      "compression_ratio    float64\n",
      "horsepower            object\n",
      "peak_rpm              object\n",
      "city_mpg               int64\n",
      "highway_mpg            int64\n",
      "price                 object\n",
      "dtype: object\n"
     ]
    }
   ],
   "source": [
    "print(continuous_cols)\n",
    "print(cars.dtypes)"
   ]
  },
  {
   "cell_type": "code",
   "execution_count": 6,
   "metadata": {},
   "outputs": [
    {
     "data": {
      "text/plain": [
       "symboling              int64\n",
       "normalized_losses    float64\n",
       "make                  object\n",
       "fuel_type             object\n",
       "aspiration            object\n",
       "num_doors             object\n",
       "body_style            object\n",
       "drive_wheels          object\n",
       "engine_location       object\n",
       "wheel_base           float64\n",
       "length               float64\n",
       "width                float64\n",
       "height               float64\n",
       "curb_weight            int64\n",
       "engine_type           object\n",
       "num_of_cylinders      object\n",
       "engine_size            int64\n",
       "fuel_system           object\n",
       "bore                 float64\n",
       "stroke               float64\n",
       "compression_ratio    float64\n",
       "horsepower           float64\n",
       "peak_rpm             float64\n",
       "city_mpg               int64\n",
       "highway_mpg            int64\n",
       "price                float64\n",
       "dtype: object"
      ]
     },
     "execution_count": 6,
     "metadata": {},
     "output_type": "execute_result"
    }
   ],
   "source": [
    "#columns to convert to numerical dtype\n",
    "to_convert = ['normalized_losses', 'bore', 'stroke', 'horsepower', 'peak_rpm', 'price']\n",
    "#changes desired columns to float\n",
    "cars[to_convert] = cars[to_convert].astype('float')\n",
    "cars.dtypes"
   ]
  },
  {
   "cell_type": "code",
   "execution_count": 7,
   "metadata": {},
   "outputs": [
    {
     "data": {
      "text/plain": [
       "normalized_losses    41\n",
       "wheel_base            0\n",
       "length                0\n",
       "width                 0\n",
       "height                0\n",
       "curb_weight           0\n",
       "engine_size           0\n",
       "bore                  4\n",
       "stroke                4\n",
       "compression_ratio     0\n",
       "horsepower            2\n",
       "peak_rpm              2\n",
       "city_mpg              0\n",
       "highway_mpg           0\n",
       "price                 4\n",
       "dtype: int64"
      ]
     },
     "execution_count": 7,
     "metadata": {},
     "output_type": "execute_result"
    }
   ],
   "source": [
    "cars_numerical = cars[continuous_cols]\n",
    "cars_numerical.isna().sum()"
   ]
  },
  {
   "cell_type": "markdown",
   "metadata": {},
   "source": [
    "We are predicting price so all rows with missing price must be removed, elsewhere fill in the missing values with column mean"
   ]
  },
  {
   "cell_type": "code",
   "execution_count": 8,
   "metadata": {},
   "outputs": [],
   "source": [
    "#drops all rows with a missing price value\n",
    "cars_numerical = cars_numerical[cars_numerical['price'].notnull()]"
   ]
  },
  {
   "cell_type": "code",
   "execution_count": 9,
   "metadata": {},
   "outputs": [
    {
     "data": {
      "text/plain": [
       "normalized_losses    0\n",
       "wheel_base           0\n",
       "length               0\n",
       "width                0\n",
       "height               0\n",
       "curb_weight          0\n",
       "engine_size          0\n",
       "bore                 0\n",
       "stroke               0\n",
       "compression_ratio    0\n",
       "horsepower           0\n",
       "peak_rpm             0\n",
       "city_mpg             0\n",
       "highway_mpg          0\n",
       "price                0\n",
       "dtype: int64"
      ]
     },
     "execution_count": 9,
     "metadata": {},
     "output_type": "execute_result"
    }
   ],
   "source": [
    "#fills missing values with mean\n",
    "cars_numerical = cars_numerical.fillna(cars_numerical.mean())\n",
    "cars_numerical.isnull().sum()"
   ]
  },
  {
   "cell_type": "markdown",
   "metadata": {},
   "source": [
    "Next we need to normalize the column values"
   ]
  },
  {
   "cell_type": "code",
   "execution_count": 10,
   "metadata": {
    "scrolled": false
   },
   "outputs": [],
   "source": [
    "#function that takes in a dataframe and normalizes values between 0 and 1\n",
    "def normalize(df):\n",
    "    df_copy = df.copy()\n",
    "    \n",
    "    columns = list(df.columns)\n",
    "    columns.remove('price')\n",
    "    #normalizes dataframe by looping though each column\n",
    "    for col in columns:\n",
    "        # by column (x - min) / (max - min) normalizes values between 0 and 1\n",
    "        df_copy[col] = (df[col] - df[col].min()) / (df[col].max() - df[col].min())\n",
    "    return df_copy\n",
    "\n",
    "cars_numerical = normalize(cars_numerical)\n"
   ]
  },
  {
   "cell_type": "code",
   "execution_count": 11,
   "metadata": {},
   "outputs": [
    {
     "name": "stdout",
     "output_type": "stream",
     "text": [
      "normalized_losses       0.0\n",
      "wheel_base              0.0\n",
      "length                  0.0\n",
      "width                   0.0\n",
      "height                  0.0\n",
      "curb_weight             0.0\n",
      "engine_size             0.0\n",
      "bore                    0.0\n",
      "stroke                  0.0\n",
      "compression_ratio       0.0\n",
      "horsepower              0.0\n",
      "peak_rpm                0.0\n",
      "city_mpg                0.0\n",
      "highway_mpg             0.0\n",
      "price                5118.0\n",
      "dtype: float64\n",
      "normalized_losses        1.0\n",
      "wheel_base               1.0\n",
      "length                   1.0\n",
      "width                    1.0\n",
      "height                   1.0\n",
      "curb_weight              1.0\n",
      "engine_size              1.0\n",
      "bore                     1.0\n",
      "stroke                   1.0\n",
      "compression_ratio        1.0\n",
      "horsepower               1.0\n",
      "peak_rpm                 1.0\n",
      "city_mpg                 1.0\n",
      "highway_mpg              1.0\n",
      "price                45400.0\n",
      "dtype: float64\n"
     ]
    }
   ],
   "source": [
    "print(cars_numerical.min())\n",
    "print(cars_numerical.max())"
   ]
  },
  {
   "cell_type": "markdown",
   "metadata": {},
   "source": [
    "# Predicting Prices\n",
    "Now that the data is cleaned and normalized we can use machine learning models to predict prices.  We will first start with models based on one variable and then eventually use multiple variable and find the best choice of variables to make the closest predictions.  "
   ]
  },
  {
   "cell_type": "code",
   "execution_count": 12,
   "metadata": {},
   "outputs": [
    {
     "data": {
      "text/plain": [
       "(201, 15)"
      ]
     },
     "execution_count": 12,
     "metadata": {},
     "output_type": "execute_result"
    }
   ],
   "source": [
    "from sklearn.neighbors import KNeighborsRegressor\n",
    "from sklearn.metrics import mean_squared_error\n",
    "cars_numerical.shape"
   ]
  },
  {
   "cell_type": "markdown",
   "metadata": {},
   "source": [
    "Since there are only 201 rows of data we will use 101 rows for the training set and the remaining 100 rows for the test set"
   ]
  },
  {
   "cell_type": "code",
   "execution_count": 13,
   "metadata": {},
   "outputs": [],
   "source": [
    "#function that takes in a training column name, target column name and a dataframe\n",
    "def knn_train_test(training_col, target_col, df):\n",
    "    #sets a seed for reproducability\n",
    "    np.random.seed(1)\n",
    "    \n",
    "    #randomizes indexes for the dataframe\n",
    "    randomized = np.random.permutation(range(0,len(df)))\n",
    "    \n",
    "    #midpoint of df rounded up\n",
    "    midpoint = round((len(df) + 1) / 2)\n",
    "    \n",
    "    #splits dataframe into two halves with a training set and test set \n",
    "    training_set = df.iloc[randomized[:midpoint]]\n",
    "    test_set = df.iloc[randomized[midpoint:]]\n",
    "    \n",
    "    #instantiates a KNeighborsRegeressor class\n",
    "    knn = KNeighborsRegressor()\n",
    "    \n",
    "    #fits training_set to a model\n",
    "    knn.fit(X = training_set[[training_col]], y = training_set[target_col])\n",
    "    \n",
    "    #predicts target_col values on test_set\n",
    "    predictions = knn.predict(test_set[[training_col]])\n",
    "    \n",
    "    #calculates rmse\n",
    "    mse = mean_squared_error(test_set[target_col], predictions)\n",
    "    rmse = np.sqrt(mse)\n",
    "    \n",
    "    return rmse\n",
    "\n"
   ]
  },
  {
   "cell_type": "code",
   "execution_count": 14,
   "metadata": {},
   "outputs": [
    {
     "data": {
      "text/plain": [
       "{'normalized_losses': 8000.466322208975,\n",
       " 'wheel_base': 5496.065574281297,\n",
       " 'length': 5521.659712296657,\n",
       " 'width': 4593.417310630508,\n",
       " 'height': 7863.292279039359,\n",
       " 'curb_weight': 4424.912852203985,\n",
       " 'engine_size': 3224.6747825478465,\n",
       " 'bore': 7132.531047531445,\n",
       " 'stroke': 7815.517720381677,\n",
       " 'compression_ratio': 6726.451723278776,\n",
       " 'horsepower': 4021.5187559925666,\n",
       " 'peak_rpm': 7219.976135473025,\n",
       " 'city_mpg': 4988.7568194491105,\n",
       " 'highway_mpg': 4673.141659783063}"
      ]
     },
     "execution_count": 14,
     "metadata": {},
     "output_type": "execute_result"
    }
   ],
   "source": [
    "#list of training columns in cars_numerical\n",
    "training_cols = list(cars_numerical.columns)\n",
    "training_cols.remove('price')\n",
    "\n",
    "rmse_dict = dict()\n",
    "\n",
    "for col in training_cols:\n",
    "    rmse_dict[col] = knn_train_test(training_col=col, target_col='price', df=cars_numerical)\n",
    "rmse_dict\n"
   ]
  },
  {
   "cell_type": "code",
   "execution_count": 15,
   "metadata": {},
   "outputs": [
    {
     "name": "stdout",
     "output_type": "stream",
     "text": [
      "engine_size 3224.6747825478465\n"
     ]
    }
   ],
   "source": [
    "min_key = min(rmse_dict, key = rmse_dict.get)\n",
    "print(min_key, rmse_dict[min_key])"
   ]
  },
  {
   "cell_type": "markdown",
   "metadata": {},
   "source": [
    "Using an univariate model engine_size performed the best. Next we will modify knn_train_test to accept and a k parameter and use k values other than the default 5."
   ]
  },
  {
   "cell_type": "code",
   "execution_count": 16,
   "metadata": {},
   "outputs": [],
   "source": [
    "#redefines knn_train_test with a k parameter\n",
    "def knn_train_test(training_col, target_col, df, k = 5):\n",
    "    #sets a seed for reproducability\n",
    "    np.random.seed(1)\n",
    "    \n",
    "    #randomizes indexes for the dataframe\n",
    "    randomized = np.random.permutation(range(0,len(df)))\n",
    "    \n",
    "    #midpoint of df rounded up\n",
    "    midpoint = round((len(df) + 1) / 2)\n",
    "    \n",
    "    #splits dataframe into two halves with a training set and test set \n",
    "    training_set = df.iloc[randomized[:midpoint]]\n",
    "    test_set = df.iloc[randomized[midpoint:]]\n",
    "    \n",
    "    #instantiates a KNeighborsRegeressor class with k neighbors\n",
    "    knn = KNeighborsRegressor(n_neighbors=k)\n",
    "    \n",
    "    #fits training_set to a model\n",
    "    knn.fit(X = training_set[[training_col]], y = training_set[target_col])\n",
    "    \n",
    "    #predicts target_col values on test_set\n",
    "    predictions = knn.predict(test_set[[training_col]])\n",
    "    \n",
    "    #calculates rmse\n",
    "    mse = mean_squared_error(test_set[target_col], predictions)\n",
    "    rmse = np.sqrt(mse)\n",
    "    \n",
    "    return rmse\n"
   ]
  },
  {
   "cell_type": "code",
   "execution_count": 17,
   "metadata": {},
   "outputs": [],
   "source": [
    "#dictionaries for different k values\n",
    "rmse_values = dict()\n",
    "for col in training_cols:\n",
    "    rmse_values[col] = dict()\n",
    "\n",
    "for col in training_cols:\n",
    "    rmse_values[col][1] = knn_train_test(col, 'price', cars_numerical, 1)\n",
    "    rmse_values[col][3] = knn_train_test(col, 'price', cars_numerical, 3)\n",
    "    rmse_values[col][5] = knn_train_test(col, 'price', cars_numerical, 5)\n",
    "    rmse_values[col][7] = knn_train_test(col, 'price', cars_numerical, 7)\n",
    "    rmse_values[col][9] = knn_train_test(col, 'price', cars_numerical, 9)\n"
   ]
  },
  {
   "cell_type": "code",
   "execution_count": 18,
   "metadata": {
    "scrolled": true
   },
   "outputs": [
    {
     "data": {
      "text/plain": [
       "{'normalized_losses': {1: 10377.14792031028,\n",
       "  3: 6893.567025455287,\n",
       "  5: 8000.466322208975,\n",
       "  7: 7732.002278748464,\n",
       "  9: 7789.832167917419},\n",
       " 'wheel_base': {1: 4699.587226555115,\n",
       "  3: 5224.395251127159,\n",
       "  5: 5496.065574281297,\n",
       "  7: 5510.564329577159,\n",
       "  9: 5786.9012548669125},\n",
       " 'length': {1: 5063.3301304576225,\n",
       "  3: 5144.46779419947,\n",
       "  5: 5521.659712296657,\n",
       "  7: 5354.029111704529,\n",
       "  9: 5407.822626198066},\n",
       " 'width': {1: 4358.532815065179,\n",
       "  3: 4623.040881762181,\n",
       "  5: 4593.417310630508,\n",
       "  7: 4594.918072574686,\n",
       "  9: 4696.154608576502},\n",
       " 'height': {1: 9954.918310563879,\n",
       "  3: 8481.988963877124,\n",
       "  5: 7863.292279039359,\n",
       "  7: 7750.74222247029,\n",
       "  9: 7983.477810801227},\n",
       " 'curb_weight': {1: 5249.295182212561,\n",
       "  3: 5068.483176235054,\n",
       "  5: 4424.912852203985,\n",
       "  7: 4348.61158975729,\n",
       "  9: 4660.3059351304755},\n",
       " 'engine_size': {1: 3671.5457398757812,\n",
       "  3: 2934.177067860008,\n",
       "  5: 3224.6747825478465,\n",
       "  7: 3522.9378731915417,\n",
       "  9: 3765.85049636701},\n",
       " 'bore': {1: 8858.542380662859,\n",
       "  3: 7194.608110785311,\n",
       "  5: 7132.531047531445,\n",
       "  7: 7055.000537164243,\n",
       "  9: 6872.620762251355},\n",
       " 'stroke': {1: 7891.6219296162435,\n",
       "  3: 7962.149811242355,\n",
       "  5: 7815.517720381677,\n",
       "  7: 7600.579489977681,\n",
       "  9: 7814.725804262263},\n",
       " 'compression_ratio': {1: 7574.879362075676,\n",
       "  3: 7179.424670929805,\n",
       "  5: 6726.451723278776,\n",
       "  7: 6722.724005891343,\n",
       "  9: 7064.786106003511},\n",
       " 'horsepower': {1: 4059.5144278595685,\n",
       "  3: 3877.3090177194917,\n",
       "  5: 4021.5187559925666,\n",
       "  7: 4383.662792851267,\n",
       "  9: 4497.094571244421},\n",
       " 'peak_rpm': {1: 7645.274022557988,\n",
       "  3: 7753.958358154885,\n",
       "  5: 7219.976135473025,\n",
       "  7: 7238.463403194614,\n",
       "  9: 7307.763253233416},\n",
       " 'city_mpg': {1: 4857.177249184962,\n",
       "  3: 4749.126722297948,\n",
       "  5: 4988.7568194491105,\n",
       "  7: 5362.352800206039,\n",
       "  9: 5437.592818994925},\n",
       " 'highway_mpg': {1: 6143.189797653984,\n",
       "  3: 4643.367298152878,\n",
       "  5: 4673.141659783063,\n",
       "  7: 4875.221947558816,\n",
       "  9: 5324.366687233653}}"
      ]
     },
     "execution_count": 18,
     "metadata": {},
     "output_type": "execute_result"
    }
   ],
   "source": [
    "rmse_values"
   ]
  },
  {
   "cell_type": "code",
   "execution_count": 19,
   "metadata": {},
   "outputs": [
    {
     "data": {
      "image/png": "[encoded data removed]",
      "text/plain": [
       "<Figure size 576x432 with 1 Axes>"
      ]
     },
     "metadata": {
      "needs_background": "light"
     },
     "output_type": "display_data"
    }
   ],
   "source": [
    "%matplotlib inline\n",
    "import matplotlib.pyplot as plt\n",
    "import matplotlib.colors as colors\n",
    "from cycler import cycler\n",
    "\n",
    "\n",
    "#color map\n",
    "cmap = plt.cm.gist_ncar\n",
    "\n",
    "#colormap cycle\n",
    "c = cycler('color', cmap(np.linspace(0,1,15)) )\n",
    "\n",
    "#sets colorcycle\n",
    "plt.rcParams['axes.prop_cycle'] = c\n",
    "\n",
    "\n",
    "plt.figure(figsize = (8,6))\n",
    "\n",
    "\n",
    "#loops through each column name for cars_numerical as a key in rmse_values\n",
    "for key in rmse_values:\n",
    "    x = []\n",
    "    y = []\n",
    "\n",
    "    for k in [1,3,5,7,9]:\n",
    "        x.append(k)\n",
    "        y.append(rmse_values[key][k])\n",
    "    plt.plot(x,y, label = key)\n",
    "\n",
    "#moves legend outside of figure\n",
    "plt.legend(bbox_to_anchor = (1.4,1))\n",
    "\n",
    "#formats axes and tick params\n",
    "plt.xticks([1,3,5,7,9])\n",
    "\n",
    "plt.tick_params(bottom = False, top = False, left = False, right = False)\n",
    "\n",
    "plt.xlabel('k values')\n",
    "plt.ylabel('rmse value')\n",
    "plt.title('k values vs rmse values')\n",
    "\n",
    "plt.show()"
   ]
  },
  {
   "cell_type": "markdown",
   "metadata": {},
   "source": [
    "# Multivariate Models\n",
    "Now that we have done a univariate model for all the different columns we will modify the knn_train_test function to take in a list of columns and return a rmse value for the list of columns. This will be done with the default k value of 5. We will be using the best performing variable from the univariate models, starting with the two best variables and adding one more variable up to 5 variables."
   ]
  },
  {
   "cell_type": "code",
   "execution_count": 20,
   "metadata": {},
   "outputs": [],
   "source": [
    "#redefines knn_train_test with a k parameter\n",
    "def knn_train_test(training_col, target_col, df, k = 5):\n",
    "    #sets a seed for reproducability\n",
    "    np.random.seed(1)\n",
    "    \n",
    "    #randomizes indexes for the dataframe\n",
    "    randomized = np.random.permutation(range(0,len(df)))\n",
    "    \n",
    "    #midpoint of df rounded up\n",
    "    midpoint = round((len(df) + 1) / 2)\n",
    "    \n",
    "    #splits dataframe into two halves with a training set and test set \n",
    "    training_set = df.iloc[randomized[:midpoint]]\n",
    "    test_set = df.iloc[randomized[midpoint:]]\n",
    "    \n",
    "    #instantiates a KNeighborsRegeressor class with k neighbors\n",
    "    knn = KNeighborsRegressor(n_neighbors=k)\n",
    "    \n",
    "    #fits training_set to a model\n",
    "    knn.fit(X = training_set[training_col], y = training_set[target_col])\n",
    "    \n",
    "    #predicts target_col values on test_set\n",
    "    predictions = knn.predict(test_set[training_col])\n",
    "    \n",
    "    #calculates rmse\n",
    "    mse = mean_squared_error(test_set[target_col], predictions)\n",
    "    rmse = np.sqrt(mse)\n",
    "    \n",
    "    return rmse\n",
    "\n"
   ]
  },
  {
   "cell_type": "code",
   "execution_count": 21,
   "metadata": {},
   "outputs": [
    {
     "data": {
      "text/plain": [
       "{'width': 4593.417310630508,\n",
       " 'curb_weight': 4424.912852203985,\n",
       " 'engine_size': 3224.6747825478465,\n",
       " 'horsepower': 4021.5187559925666,\n",
       " 'highway_mpg': 4673.141659783063}"
      ]
     },
     "execution_count": 21,
     "metadata": {},
     "output_type": "execute_result"
    }
   ],
   "source": [
    "top_five_values = sorted(rmse_dict.values())[:5]\n",
    "top_five_dict = {}\n",
    "for key in rmse_dict:\n",
    "    value = rmse_dict[key]\n",
    "    if value in top_five_values:\n",
    "        top_five_dict[key] = value\n",
    "top_five_dict"
   ]
  },
  {
   "cell_type": "code",
   "execution_count": 22,
   "metadata": {},
   "outputs": [
    {
     "name": "stdout",
     "output_type": "stream",
     "text": [
      "2949.6709072708436 3437.964685682504 3490.3631757168196 3410.6818843744427\n"
     ]
    }
   ],
   "source": [
    "best_2 = knn_train_test(['engine_size', 'horsepower'], 'price', cars_numerical)\n",
    "best_3 = knn_train_test(['engine_size', 'horsepower', 'curb_weight'], 'price', cars_numerical)\n",
    "best_4 = knn_train_test(['engine_size', 'horsepower', 'curb_weight', 'width'], 'price', cars_numerical)\n",
    "best_5 = knn_train_test(['engine_size', 'horsepower', 'curb_weight', 'width', 'highway_mpg'], 'price', cars_numerical)\n",
    "print(best_2, best_3, best_4, best_5)"
   ]
  },
  {
   "cell_type": "markdown",
   "metadata": {},
   "source": [
    "# Hyperparemeter Optimization\n",
    "Now we will take the best 3 of these 4 models and vary the k value from 1 to 25."
   ]
  },
  {
   "cell_type": "code",
   "execution_count": 23,
   "metadata": {},
   "outputs": [],
   "source": [
    "#the top 3 models column names\n",
    "two_cols = ['engine_size', 'horsepower']\n",
    "five_cols = ['engine_size', 'horsepower', 'curb_weight', 'width', 'highway_mpg']\n",
    "three_cols = ['engine_size', 'horsepower', 'curb_weight']\n"
   ]
  },
  {
   "cell_type": "code",
   "execution_count": 28,
   "metadata": {},
   "outputs": [
    {
     "data": {
      "image/png": "[encoded data removed]",
      "text/plain": [
       "<Figure size 432x288 with 1 Axes>"
      ]
     },
     "metadata": {
      "needs_background": "light"
     },
     "output_type": "display_data"
    }
   ],
   "source": [
    "%matplotlib inline\n",
    "two_cols_rmse = []\n",
    "three_cols_rmse = []\n",
    "five_cols_rmse = []\n",
    "k_values = [i for i in range(1,26)]\n",
    "\n",
    "for k in k_values:\n",
    "    two_cols_rmse.append(knn_train_test(two_cols, 'price', cars_numerical, k))\n",
    "    three_cols_rmse.append(knn_train_test(three_cols, 'price', cars_numerical, k))\n",
    "    five_cols_rmse.append(knn_train_test(five_cols, 'price', cars_numerical, k))\n",
    "\n",
    "plt.plot(k_values, two_cols_rmse, c = 'blue', label = 'two_cols')\n",
    "plt.plot(k_values, three_cols_rmse, c = 'red', label = 'three_cols')\n",
    "plt.plot(k_values, five_cols_rmse, c = 'black', label = 'five_cols')\n",
    "\n",
    "plt.legend()\n",
    "plt.title('engine_size and horse_power')\n",
    "plt.xlabel('k value')\n",
    "plt.ylabel('rmse value')\n",
    "\n",
    "plt.show()"
   ]
  },
  {
   "cell_type": "markdown",
   "metadata": {},
   "source": [
    "The two column model has a optimal k value of 2 the five column and the three column model both had an optimal k value of 1. I think the reason these k values are all very small is because the cleaned dataset has only 201 rows with 101 used for training and 100 used for testing. With a small number of values to train and test the models all favor very small k values to find the most similar car. Using a different dataset with many more cars could possibly favor larger k values and be more accurate in predicting prices.  "
   ]
  }
 ],
 "metadata": {
  "kernelspec": {
   "display_name": "Python 3",
   "language": "python",
   "name": "python3"
  },
  "language_info": {
   "codemirror_mode": {
    "name": "ipython",
    "version": 3
   },
   "file_extension": ".py",
   "mimetype": "text/x-python",
   "name": "python",
   "nbconvert_exporter": "python",
   "pygments_lexer": "ipython3",
   "version": "3.8.5"
  }
 },
 "nbformat": 4,
 "nbformat_minor": 2
}
